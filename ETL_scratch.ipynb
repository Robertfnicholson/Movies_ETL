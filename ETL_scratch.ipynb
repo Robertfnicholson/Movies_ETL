{
 "cells": [
  {
   "cell_type": "code",
   "execution_count": null,
   "id": "ee6dad32",
   "metadata": {},
   "outputs": [],
   "source": [
    " # we will be storing the rating data as its own \n",
    "    # table in SQL, so we'll need to convert it to a datetime data type. \n",
    "    #There are other epochs in use, but the Unix epoch is by far the most widespread.\n",
    "    # Specify in to_datetime() that the origin is 'unix' and the time unit is seconds.\n",
    "    # pd.to_datetime(ratings['timestamp'], unit='s')\n",
    "    \n",
    "    # assign it to the timestamp column.\n",
    "    # ratings['timestamp'] = pd.to_datetime(ratings['timestamp'], unit='s')\n",
    "    \n",
    "    # use a groupby on the \"movieId\" and \"rating\" columns and take the \n",
    "    # count for each group.\n",
    "    # Used reference code from M_Fullerton \"ETL_clean_kaggle_data.ipynb.\n",
    "    # rating_counts = ratings.groupby(['movieId','rating'], as_index=False).count()   \n",
    "    \n",
    "    # Rename the \"userId\" column to \"count.\"\n",
    "       # pivot this data so that movieId is the index, the columns will be \n",
    "    # all the rating values, and the rows will be the counts for each \n",
    "    # rating value.\n",
    "    rating_counts = ratings.groupby(['movieId','rating'], as_index=False).count()\n",
    "    \n",
    "                .rename({'userId':'count'}, axis=1) \\\n",
    "                .pivot(index='movieId',columns='rating', values='count')\n",
    "    \n",
    "    #  rename the columns so they're easier to understand. We'll prepend \n",
    "    # rating_ to each column with a list comprehension\n",
    "    rating_counts.columns = ['rating_' + str(col) for col in rating_counts.columns]    \n",
    "    \n",
    "    # Merge the ratings DataFrame with the movies_df DataFrame, name the new DataFrame movies_with_ratings_df\n",
    "    # Used reference code from M_Fullerton \"ETL_clean_kaggle_data.ipynb.\" Modified pd.merge function using \"right\" and \"how\"\n",
    "    # parameters. We need to use a left merge, since we want to keep everything in movies_df:\n",
    "    movies_with_ratings_df = pd.merge(movies_df, ratings, left_on='kaggle_id', right_index=True, how='left')\n",
    "    \n",
    "    # Not every movie got a rating for each rating level, there will be  missing values instead of zeros. \n",
    "    # We have to fill those in ourselves, \n",
    "    movies_with_ratings_df[rating_counts.columns] = movies_with_ratings_df[rating_counts.columns].fillna(0)\n",
    "    \n",
    "    return wiki_movies_df, movies_with_ratings_df, movies_df"
   ]
  }
 ],
 "metadata": {
  "kernelspec": {
   "display_name": "PythonData",
   "language": "python",
   "name": "pythondata"
  },
  "language_info": {
   "codemirror_mode": {
    "name": "ipython",
    "version": 3
   },
   "file_extension": ".py",
   "mimetype": "text/x-python",
   "name": "python",
   "nbconvert_exporter": "python",
   "pygments_lexer": "ipython3",
   "version": "3.7.11"
  }
 },
 "nbformat": 4,
 "nbformat_minor": 5
}
